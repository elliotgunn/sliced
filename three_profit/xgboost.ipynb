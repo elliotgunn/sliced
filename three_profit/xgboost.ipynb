{
 "cells": [
  {
   "cell_type": "code",
   "execution_count": 141,
   "id": "63c45e48",
   "metadata": {},
   "outputs": [],
   "source": [
    "import pandas as pd\n",
    "import numpy as np\n",
    "import missingno\n",
    "\n",
    "# plotting\n",
    "import plotly.express as px\n",
    "import matplotlib.pyplot as plt\n",
    "import seaborn as sns\n",
    "%matplotlib inline\n",
    "\n",
    "# sklearn\n",
    "from sklearn.pipeline import make_pipeline\n",
    "import sklearn.metrics as metrics\n",
    "from sklearn.impute import SimpleImputer\n",
    "from sklearn.dummy import DummyClassifier # how well does this model improve\n",
    "from sklearn.preprocessing import StandardScaler\n",
    "from sklearn.model_selection import train_test_split\n",
    "from sklearn.model_selection import RandomizedSearchCV\n",
    "\n",
    "import category_encoders as ce\n",
    "from xgboost import XGBRegressor\n",
    "import catboost\n",
    "\n",
    "sns.set()\n",
    "\n",
    "SEED = 2\n",
    "\n",
    "pd.set_option('display.max_columns', 500)"
   ]
  },
  {
   "cell_type": "code",
   "execution_count": 142,
   "id": "ccef6a14",
   "metadata": {},
   "outputs": [],
   "source": [
    "df = pd.read_csv('data/train.csv')\n",
    "test = pd.read_csv('data/test.csv')"
   ]
  },
  {
   "cell_type": "code",
   "execution_count": 143,
   "id": "07a99061",
   "metadata": {},
   "outputs": [
    {
     "data": {
      "text/html": [
       "<div>\n",
       "<style scoped>\n",
       "    .dataframe tbody tr th:only-of-type {\n",
       "        vertical-align: middle;\n",
       "    }\n",
       "\n",
       "    .dataframe tbody tr th {\n",
       "        vertical-align: top;\n",
       "    }\n",
       "\n",
       "    .dataframe thead th {\n",
       "        text-align: right;\n",
       "    }\n",
       "</style>\n",
       "<table border=\"1\" class=\"dataframe\">\n",
       "  <thead>\n",
       "    <tr style=\"text-align: right;\">\n",
       "      <th></th>\n",
       "      <th>id</th>\n",
       "      <th>ship_mode</th>\n",
       "      <th>segment</th>\n",
       "      <th>country</th>\n",
       "      <th>city</th>\n",
       "      <th>state</th>\n",
       "      <th>postal_code</th>\n",
       "      <th>region</th>\n",
       "      <th>category</th>\n",
       "      <th>sub_category</th>\n",
       "      <th>sales</th>\n",
       "      <th>quantity</th>\n",
       "      <th>discount</th>\n",
       "      <th>profit</th>\n",
       "    </tr>\n",
       "  </thead>\n",
       "  <tbody>\n",
       "    <tr>\n",
       "      <th>0</th>\n",
       "      <td>8522</td>\n",
       "      <td>Second Class</td>\n",
       "      <td>Consumer</td>\n",
       "      <td>United States</td>\n",
       "      <td>Everett</td>\n",
       "      <td>Massachusetts</td>\n",
       "      <td>2149</td>\n",
       "      <td>East</td>\n",
       "      <td>Office Supplies</td>\n",
       "      <td>Art</td>\n",
       "      <td>16.280</td>\n",
       "      <td>2</td>\n",
       "      <td>0.00</td>\n",
       "      <td>6.5120</td>\n",
       "    </tr>\n",
       "    <tr>\n",
       "      <th>1</th>\n",
       "      <td>7864</td>\n",
       "      <td>Standard Class</td>\n",
       "      <td>Corporate</td>\n",
       "      <td>United States</td>\n",
       "      <td>Los Angeles</td>\n",
       "      <td>California</td>\n",
       "      <td>90036</td>\n",
       "      <td>West</td>\n",
       "      <td>Furniture</td>\n",
       "      <td>Chairs</td>\n",
       "      <td>1684.752</td>\n",
       "      <td>6</td>\n",
       "      <td>0.20</td>\n",
       "      <td>210.5940</td>\n",
       "    </tr>\n",
       "    <tr>\n",
       "      <th>2</th>\n",
       "      <td>3522</td>\n",
       "      <td>Standard Class</td>\n",
       "      <td>Consumer</td>\n",
       "      <td>United States</td>\n",
       "      <td>New York City</td>\n",
       "      <td>New York</td>\n",
       "      <td>10035</td>\n",
       "      <td>East</td>\n",
       "      <td>Office Supplies</td>\n",
       "      <td>Storage</td>\n",
       "      <td>242.940</td>\n",
       "      <td>3</td>\n",
       "      <td>0.00</td>\n",
       "      <td>9.7176</td>\n",
       "    </tr>\n",
       "    <tr>\n",
       "      <th>3</th>\n",
       "      <td>8694</td>\n",
       "      <td>Standard Class</td>\n",
       "      <td>Consumer</td>\n",
       "      <td>United States</td>\n",
       "      <td>Los Angeles</td>\n",
       "      <td>California</td>\n",
       "      <td>90045</td>\n",
       "      <td>West</td>\n",
       "      <td>Office Supplies</td>\n",
       "      <td>Art</td>\n",
       "      <td>37.170</td>\n",
       "      <td>9</td>\n",
       "      <td>0.00</td>\n",
       "      <td>10.4076</td>\n",
       "    </tr>\n",
       "    <tr>\n",
       "      <th>4</th>\n",
       "      <td>2306</td>\n",
       "      <td>Second Class</td>\n",
       "      <td>Home Office</td>\n",
       "      <td>United States</td>\n",
       "      <td>San Francisco</td>\n",
       "      <td>California</td>\n",
       "      <td>94110</td>\n",
       "      <td>West</td>\n",
       "      <td>Furniture</td>\n",
       "      <td>Bookcases</td>\n",
       "      <td>1198.330</td>\n",
       "      <td>10</td>\n",
       "      <td>0.15</td>\n",
       "      <td>70.4900</td>\n",
       "    </tr>\n",
       "  </tbody>\n",
       "</table>\n",
       "</div>"
      ],
      "text/plain": [
       "     id       ship_mode      segment        country           city  \\\n",
       "0  8522    Second Class     Consumer  United States        Everett   \n",
       "1  7864  Standard Class    Corporate  United States    Los Angeles   \n",
       "2  3522  Standard Class     Consumer  United States  New York City   \n",
       "3  8694  Standard Class     Consumer  United States    Los Angeles   \n",
       "4  2306    Second Class  Home Office  United States  San Francisco   \n",
       "\n",
       "           state  postal_code region         category sub_category     sales  \\\n",
       "0  Massachusetts         2149   East  Office Supplies          Art    16.280   \n",
       "1     California        90036   West        Furniture       Chairs  1684.752   \n",
       "2       New York        10035   East  Office Supplies      Storage   242.940   \n",
       "3     California        90045   West  Office Supplies          Art    37.170   \n",
       "4     California        94110   West        Furniture    Bookcases  1198.330   \n",
       "\n",
       "   quantity  discount    profit  \n",
       "0         2      0.00    6.5120  \n",
       "1         6      0.20  210.5940  \n",
       "2         3      0.00    9.7176  \n",
       "3         9      0.00   10.4076  \n",
       "4        10      0.15   70.4900  "
      ]
     },
     "execution_count": 143,
     "metadata": {},
     "output_type": "execute_result"
    }
   ],
   "source": [
    "df.head()"
   ]
  },
  {
   "cell_type": "code",
   "execution_count": 144,
   "id": "34af3e6e",
   "metadata": {},
   "outputs": [
    {
     "name": "stdout",
     "output_type": "stream",
     "text": [
      "<class 'pandas.core.frame.DataFrame'>\n",
      "RangeIndex: 7173 entries, 0 to 7172\n",
      "Data columns (total 14 columns):\n",
      " #   Column        Non-Null Count  Dtype  \n",
      "---  ------        --------------  -----  \n",
      " 0   id            7173 non-null   int64  \n",
      " 1   ship_mode     7173 non-null   object \n",
      " 2   segment       7173 non-null   object \n",
      " 3   country       7173 non-null   object \n",
      " 4   city          7173 non-null   object \n",
      " 5   state         7173 non-null   object \n",
      " 6   postal_code   7173 non-null   int64  \n",
      " 7   region        7173 non-null   object \n",
      " 8   category      7173 non-null   object \n",
      " 9   sub_category  7173 non-null   object \n",
      " 10  sales         7173 non-null   float64\n",
      " 11  quantity      7173 non-null   int64  \n",
      " 12  discount      7173 non-null   float64\n",
      " 13  profit        7173 non-null   float64\n",
      "dtypes: float64(3), int64(3), object(8)\n",
      "memory usage: 784.7+ KB\n"
     ]
    }
   ],
   "source": [
    "# look at the dataset\n",
    "# focus on nulls\n",
    "df.info()"
   ]
  },
  {
   "cell_type": "code",
   "execution_count": 145,
   "id": "cbf17964",
   "metadata": {},
   "outputs": [
    {
     "data": {
      "text/plain": [
       "453"
      ]
     },
     "execution_count": 145,
     "metadata": {},
     "output_type": "execute_result"
    }
   ],
   "source": [
    "df.postal_code.nunique()"
   ]
  },
  {
   "cell_type": "code",
   "execution_count": 146,
   "id": "112b3772",
   "metadata": {},
   "outputs": [
    {
     "data": {
      "text/html": [
       "<div>\n",
       "<style scoped>\n",
       "    .dataframe tbody tr th:only-of-type {\n",
       "        vertical-align: middle;\n",
       "    }\n",
       "\n",
       "    .dataframe tbody tr th {\n",
       "        vertical-align: top;\n",
       "    }\n",
       "\n",
       "    .dataframe thead th {\n",
       "        text-align: right;\n",
       "    }\n",
       "</style>\n",
       "<table border=\"1\" class=\"dataframe\">\n",
       "  <thead>\n",
       "    <tr style=\"text-align: right;\">\n",
       "      <th></th>\n",
       "      <th>id</th>\n",
       "      <th>postal_code</th>\n",
       "      <th>sales</th>\n",
       "      <th>quantity</th>\n",
       "      <th>discount</th>\n",
       "      <th>profit</th>\n",
       "    </tr>\n",
       "  </thead>\n",
       "  <tbody>\n",
       "    <tr>\n",
       "      <th>count</th>\n",
       "      <td>7173.000000</td>\n",
       "      <td>7173.000000</td>\n",
       "      <td>7173.000000</td>\n",
       "      <td>7173.000000</td>\n",
       "      <td>7173.000000</td>\n",
       "      <td>7173.000000</td>\n",
       "    </tr>\n",
       "    <tr>\n",
       "      <th>mean</th>\n",
       "      <td>4981.020772</td>\n",
       "      <td>57372.577861</td>\n",
       "      <td>233.661716</td>\n",
       "      <td>3.810540</td>\n",
       "      <td>0.132447</td>\n",
       "      <td>36.220375</td>\n",
       "    </tr>\n",
       "    <tr>\n",
       "      <th>std</th>\n",
       "      <td>2885.410698</td>\n",
       "      <td>33145.587637</td>\n",
       "      <td>594.146828</td>\n",
       "      <td>2.236801</td>\n",
       "      <td>0.200767</td>\n",
       "      <td>222.338027</td>\n",
       "    </tr>\n",
       "    <tr>\n",
       "      <th>min</th>\n",
       "      <td>1.000000</td>\n",
       "      <td>1040.000000</td>\n",
       "      <td>0.444000</td>\n",
       "      <td>1.000000</td>\n",
       "      <td>0.000000</td>\n",
       "      <td>-3839.990400</td>\n",
       "    </tr>\n",
       "    <tr>\n",
       "      <th>25%</th>\n",
       "      <td>2483.000000</td>\n",
       "      <td>22980.000000</td>\n",
       "      <td>17.940000</td>\n",
       "      <td>2.000000</td>\n",
       "      <td>0.000000</td>\n",
       "      <td>2.822400</td>\n",
       "    </tr>\n",
       "    <tr>\n",
       "      <th>50%</th>\n",
       "      <td>4961.000000</td>\n",
       "      <td>68104.000000</td>\n",
       "      <td>55.980000</td>\n",
       "      <td>3.000000</td>\n",
       "      <td>0.000000</td>\n",
       "      <td>10.179000</td>\n",
       "    </tr>\n",
       "    <tr>\n",
       "      <th>75%</th>\n",
       "      <td>7498.000000</td>\n",
       "      <td>90032.000000</td>\n",
       "      <td>215.968000</td>\n",
       "      <td>5.000000</td>\n",
       "      <td>0.200000</td>\n",
       "      <td>33.874400</td>\n",
       "    </tr>\n",
       "    <tr>\n",
       "      <th>max</th>\n",
       "      <td>9994.000000</td>\n",
       "      <td>97756.000000</td>\n",
       "      <td>17499.950000</td>\n",
       "      <td>14.000000</td>\n",
       "      <td>0.800000</td>\n",
       "      <td>8399.976000</td>\n",
       "    </tr>\n",
       "  </tbody>\n",
       "</table>\n",
       "</div>"
      ],
      "text/plain": [
       "                id   postal_code         sales     quantity     discount  \\\n",
       "count  7173.000000   7173.000000   7173.000000  7173.000000  7173.000000   \n",
       "mean   4981.020772  57372.577861    233.661716     3.810540     0.132447   \n",
       "std    2885.410698  33145.587637    594.146828     2.236801     0.200767   \n",
       "min       1.000000   1040.000000      0.444000     1.000000     0.000000   \n",
       "25%    2483.000000  22980.000000     17.940000     2.000000     0.000000   \n",
       "50%    4961.000000  68104.000000     55.980000     3.000000     0.000000   \n",
       "75%    7498.000000  90032.000000    215.968000     5.000000     0.200000   \n",
       "max    9994.000000  97756.000000  17499.950000    14.000000     0.800000   \n",
       "\n",
       "            profit  \n",
       "count  7173.000000  \n",
       "mean     36.220375  \n",
       "std     222.338027  \n",
       "min   -3839.990400  \n",
       "25%       2.822400  \n",
       "50%      10.179000  \n",
       "75%      33.874400  \n",
       "max    8399.976000  "
      ]
     },
     "execution_count": 146,
     "metadata": {},
     "output_type": "execute_result"
    }
   ],
   "source": [
    "df.describe()"
   ]
  },
  {
   "cell_type": "markdown",
   "id": "a0ecd5ef",
   "metadata": {},
   "source": [
    "## data dict\n",
    "\n",
    "id unique id per row\n",
    "ship_mode what mode was used to ship the item: 'First Class', 'Same Day', 'Second Class', 'Standard Class'\n",
    "segment whether the recipient is corporate or consumer\n",
    "country always United States\n",
    "city where the item was shipped (a city in the United States)\n",
    "state where the item was shipped (a state in the United States)\n",
    "postal_code ZIP Code in the United States\n",
    "region region in the United States: 'Central', 'East', 'South', 'West'\n",
    "category type of item: 'Furniture', 'Office Supplies', 'Technology'\n",
    "sub_category sub-type of item: 'Accessories', 'Appliances', 'Art', 'Binders', 'Bookcases', 'Chairs', 'Copiers', 'Envelopes', 'Fasteners', 'Furnishings', 'Labels', 'Machines', 'Paper', 'Phones', 'Storage', 'Supplies', 'Tables'\n",
    "sales sales made for the order (USD)\n",
    "quantity quantity sold of the item\n",
    "discount discount applied to the order(from 0 to 1)\n",
    "profit profit made on the order (USD)\n",
    "\n",
    "\n"
   ]
  },
  {
   "cell_type": "code",
   "execution_count": 147,
   "id": "ef2b6ef2",
   "metadata": {},
   "outputs": [],
   "source": [
    "# No missing values!"
   ]
  },
  {
   "cell_type": "code",
   "execution_count": 148,
   "id": "496015f0",
   "metadata": {},
   "outputs": [],
   "source": [
    "# list of variables with missing values\n",
    "missing_vals = [var for var in df.columns if df[var].isnull().sum()>1]\n",
    "\n",
    "for var in missing_vals:\n",
    "    print(f'var, {np.round(df[var].isnull())} % missing values')"
   ]
  },
  {
   "cell_type": "code",
   "execution_count": 149,
   "id": "31aec6d6",
   "metadata": {},
   "outputs": [
    {
     "name": "stdout",
     "output_type": "stream",
     "text": [
      "Num of numerical variables:  6\n"
     ]
    },
    {
     "data": {
      "text/html": [
       "<div>\n",
       "<style scoped>\n",
       "    .dataframe tbody tr th:only-of-type {\n",
       "        vertical-align: middle;\n",
       "    }\n",
       "\n",
       "    .dataframe tbody tr th {\n",
       "        vertical-align: top;\n",
       "    }\n",
       "\n",
       "    .dataframe thead th {\n",
       "        text-align: right;\n",
       "    }\n",
       "</style>\n",
       "<table border=\"1\" class=\"dataframe\">\n",
       "  <thead>\n",
       "    <tr style=\"text-align: right;\">\n",
       "      <th></th>\n",
       "      <th>id</th>\n",
       "      <th>postal_code</th>\n",
       "      <th>sales</th>\n",
       "      <th>quantity</th>\n",
       "      <th>discount</th>\n",
       "      <th>profit</th>\n",
       "    </tr>\n",
       "  </thead>\n",
       "  <tbody>\n",
       "    <tr>\n",
       "      <th>0</th>\n",
       "      <td>8522</td>\n",
       "      <td>2149</td>\n",
       "      <td>16.280</td>\n",
       "      <td>2</td>\n",
       "      <td>0.00</td>\n",
       "      <td>6.5120</td>\n",
       "    </tr>\n",
       "    <tr>\n",
       "      <th>1</th>\n",
       "      <td>7864</td>\n",
       "      <td>90036</td>\n",
       "      <td>1684.752</td>\n",
       "      <td>6</td>\n",
       "      <td>0.20</td>\n",
       "      <td>210.5940</td>\n",
       "    </tr>\n",
       "    <tr>\n",
       "      <th>2</th>\n",
       "      <td>3522</td>\n",
       "      <td>10035</td>\n",
       "      <td>242.940</td>\n",
       "      <td>3</td>\n",
       "      <td>0.00</td>\n",
       "      <td>9.7176</td>\n",
       "    </tr>\n",
       "    <tr>\n",
       "      <th>3</th>\n",
       "      <td>8694</td>\n",
       "      <td>90045</td>\n",
       "      <td>37.170</td>\n",
       "      <td>9</td>\n",
       "      <td>0.00</td>\n",
       "      <td>10.4076</td>\n",
       "    </tr>\n",
       "    <tr>\n",
       "      <th>4</th>\n",
       "      <td>2306</td>\n",
       "      <td>94110</td>\n",
       "      <td>1198.330</td>\n",
       "      <td>10</td>\n",
       "      <td>0.15</td>\n",
       "      <td>70.4900</td>\n",
       "    </tr>\n",
       "  </tbody>\n",
       "</table>\n",
       "</div>"
      ],
      "text/plain": [
       "     id  postal_code     sales  quantity  discount    profit\n",
       "0  8522         2149    16.280         2      0.00    6.5120\n",
       "1  7864        90036  1684.752         6      0.20  210.5940\n",
       "2  3522        10035   242.940         3      0.00    9.7176\n",
       "3  8694        90045    37.170         9      0.00   10.4076\n",
       "4  2306        94110  1198.330        10      0.15   70.4900"
      ]
     },
     "execution_count": 149,
     "metadata": {},
     "output_type": "execute_result"
    }
   ],
   "source": [
    "# list of variables with numerical values\n",
    "num_vars = [var for var in df.columns if df[var].dtypes != 'O']\n",
    "\n",
    "print(\"Num of numerical variables: \", len(num_vars))\n",
    "\n",
    "df[num_vars].head()"
   ]
  },
  {
   "cell_type": "code",
   "execution_count": 150,
   "id": "907bb7ce",
   "metadata": {},
   "outputs": [
    {
     "name": "stdout",
     "output_type": "stream",
     "text": [
      "Num of numerical variables:  6\n"
     ]
    },
    {
     "data": {
      "text/html": [
       "<div>\n",
       "<style scoped>\n",
       "    .dataframe tbody tr th:only-of-type {\n",
       "        vertical-align: middle;\n",
       "    }\n",
       "\n",
       "    .dataframe tbody tr th {\n",
       "        vertical-align: top;\n",
       "    }\n",
       "\n",
       "    .dataframe thead th {\n",
       "        text-align: right;\n",
       "    }\n",
       "</style>\n",
       "<table border=\"1\" class=\"dataframe\">\n",
       "  <thead>\n",
       "    <tr style=\"text-align: right;\">\n",
       "      <th></th>\n",
       "      <th>id</th>\n",
       "      <th>postal_code</th>\n",
       "      <th>sales</th>\n",
       "      <th>quantity</th>\n",
       "      <th>discount</th>\n",
       "      <th>profit</th>\n",
       "    </tr>\n",
       "  </thead>\n",
       "  <tbody>\n",
       "    <tr>\n",
       "      <th>0</th>\n",
       "      <td>8522</td>\n",
       "      <td>2149</td>\n",
       "      <td>16.280</td>\n",
       "      <td>2</td>\n",
       "      <td>0.00</td>\n",
       "      <td>6.5120</td>\n",
       "    </tr>\n",
       "    <tr>\n",
       "      <th>1</th>\n",
       "      <td>7864</td>\n",
       "      <td>90036</td>\n",
       "      <td>1684.752</td>\n",
       "      <td>6</td>\n",
       "      <td>0.20</td>\n",
       "      <td>210.5940</td>\n",
       "    </tr>\n",
       "    <tr>\n",
       "      <th>2</th>\n",
       "      <td>3522</td>\n",
       "      <td>10035</td>\n",
       "      <td>242.940</td>\n",
       "      <td>3</td>\n",
       "      <td>0.00</td>\n",
       "      <td>9.7176</td>\n",
       "    </tr>\n",
       "    <tr>\n",
       "      <th>3</th>\n",
       "      <td>8694</td>\n",
       "      <td>90045</td>\n",
       "      <td>37.170</td>\n",
       "      <td>9</td>\n",
       "      <td>0.00</td>\n",
       "      <td>10.4076</td>\n",
       "    </tr>\n",
       "    <tr>\n",
       "      <th>4</th>\n",
       "      <td>2306</td>\n",
       "      <td>94110</td>\n",
       "      <td>1198.330</td>\n",
       "      <td>10</td>\n",
       "      <td>0.15</td>\n",
       "      <td>70.4900</td>\n",
       "    </tr>\n",
       "  </tbody>\n",
       "</table>\n",
       "</div>"
      ],
      "text/plain": [
       "     id  postal_code     sales  quantity  discount    profit\n",
       "0  8522         2149    16.280         2      0.00    6.5120\n",
       "1  7864        90036  1684.752         6      0.20  210.5940\n",
       "2  3522        10035   242.940         3      0.00    9.7176\n",
       "3  8694        90045    37.170         9      0.00   10.4076\n",
       "4  2306        94110  1198.330        10      0.15   70.4900"
      ]
     },
     "execution_count": 150,
     "metadata": {},
     "output_type": "execute_result"
    }
   ],
   "source": [
    "# list of variables with numerical values\n",
    "num_vars = [var for var in df.columns if df[var].dtypes != 'O']\n",
    "\n",
    "print(\"Num of numerical variables: \", len(num_vars))\n",
    "\n",
    "df[num_vars].head()"
   ]
  },
  {
   "cell_type": "code",
   "execution_count": 151,
   "id": "a8fbbfe5",
   "metadata": {},
   "outputs": [
    {
     "name": "stdout",
     "output_type": "stream",
     "text": [
      "Number of discrete variables:  2\n"
     ]
    },
    {
     "data": {
      "text/html": [
       "<div>\n",
       "<style scoped>\n",
       "    .dataframe tbody tr th:only-of-type {\n",
       "        vertical-align: middle;\n",
       "    }\n",
       "\n",
       "    .dataframe tbody tr th {\n",
       "        vertical-align: top;\n",
       "    }\n",
       "\n",
       "    .dataframe thead th {\n",
       "        text-align: right;\n",
       "    }\n",
       "</style>\n",
       "<table border=\"1\" class=\"dataframe\">\n",
       "  <thead>\n",
       "    <tr style=\"text-align: right;\">\n",
       "      <th></th>\n",
       "      <th>quantity</th>\n",
       "      <th>discount</th>\n",
       "    </tr>\n",
       "  </thead>\n",
       "  <tbody>\n",
       "    <tr>\n",
       "      <th>0</th>\n",
       "      <td>2</td>\n",
       "      <td>0.00</td>\n",
       "    </tr>\n",
       "    <tr>\n",
       "      <th>1</th>\n",
       "      <td>6</td>\n",
       "      <td>0.20</td>\n",
       "    </tr>\n",
       "    <tr>\n",
       "      <th>2</th>\n",
       "      <td>3</td>\n",
       "      <td>0.00</td>\n",
       "    </tr>\n",
       "    <tr>\n",
       "      <th>3</th>\n",
       "      <td>9</td>\n",
       "      <td>0.00</td>\n",
       "    </tr>\n",
       "    <tr>\n",
       "      <th>4</th>\n",
       "      <td>10</td>\n",
       "      <td>0.15</td>\n",
       "    </tr>\n",
       "  </tbody>\n",
       "</table>\n",
       "</div>"
      ],
      "text/plain": [
       "   quantity  discount\n",
       "0         2      0.00\n",
       "1         6      0.20\n",
       "2         3      0.00\n",
       "3         9      0.00\n",
       "4        10      0.15"
      ]
     },
     "execution_count": 151,
     "metadata": {},
     "output_type": "execute_result"
    }
   ],
   "source": [
    "# picked 20 as an arbitrary cutoff\n",
    "discrete_vars = [var for var in num_vars if len(df[var].unique())<20]\n",
    "print(f'Number of discrete variables: ', len(discrete_vars))\n",
    "\n",
    "df[discrete_vars].head()"
   ]
  },
  {
   "cell_type": "code",
   "execution_count": 152,
   "id": "d91bb790",
   "metadata": {},
   "outputs": [
    {
     "data": {
      "image/png": "[encoded data removed]",
      "text/plain": [
       "<Figure size 432x288 with 1 Axes>"
      ]
     },
     "metadata": {},
     "output_type": "display_data"
    },
    {
     "data": {
      "image/png": "[encoded data removed]",
      "text/plain": [
       "<Figure size 432x288 with 1 Axes>"
      ]
     },
     "metadata": {},
     "output_type": "display_data"
    }
   ],
   "source": [
    "def analyze_discrete_var(df, var):\n",
    "    \"\"\"\n",
    "    Plots discrete variable against target, tip amount.\n",
    "    \"\"\"\n",
    "    df = df.copy()\n",
    "    \n",
    "    df.groupby(var)['profit'].median().plot.bar()\n",
    "    plt.ylabel('Profit')\n",
    "    plt.xlabel(var)\n",
    "    plt.show()\n",
    "    \n",
    "for var in discrete_vars:\n",
    "    analyze_discrete_var(df, var)"
   ]
  },
  {
   "cell_type": "code",
   "execution_count": 153,
   "id": "40faf05b",
   "metadata": {},
   "outputs": [
    {
     "name": "stdout",
     "output_type": "stream",
     "text": [
      "Number of continous variables:  4\n"
     ]
    },
    {
     "data": {
      "text/html": [
       "<div>\n",
       "<style scoped>\n",
       "    .dataframe tbody tr th:only-of-type {\n",
       "        vertical-align: middle;\n",
       "    }\n",
       "\n",
       "    .dataframe tbody tr th {\n",
       "        vertical-align: top;\n",
       "    }\n",
       "\n",
       "    .dataframe thead th {\n",
       "        text-align: right;\n",
       "    }\n",
       "</style>\n",
       "<table border=\"1\" class=\"dataframe\">\n",
       "  <thead>\n",
       "    <tr style=\"text-align: right;\">\n",
       "      <th></th>\n",
       "      <th>id</th>\n",
       "      <th>postal_code</th>\n",
       "      <th>sales</th>\n",
       "      <th>profit</th>\n",
       "    </tr>\n",
       "  </thead>\n",
       "  <tbody>\n",
       "    <tr>\n",
       "      <th>0</th>\n",
       "      <td>8522</td>\n",
       "      <td>2149</td>\n",
       "      <td>16.280</td>\n",
       "      <td>6.5120</td>\n",
       "    </tr>\n",
       "    <tr>\n",
       "      <th>1</th>\n",
       "      <td>7864</td>\n",
       "      <td>90036</td>\n",
       "      <td>1684.752</td>\n",
       "      <td>210.5940</td>\n",
       "    </tr>\n",
       "    <tr>\n",
       "      <th>2</th>\n",
       "      <td>3522</td>\n",
       "      <td>10035</td>\n",
       "      <td>242.940</td>\n",
       "      <td>9.7176</td>\n",
       "    </tr>\n",
       "    <tr>\n",
       "      <th>3</th>\n",
       "      <td>8694</td>\n",
       "      <td>90045</td>\n",
       "      <td>37.170</td>\n",
       "      <td>10.4076</td>\n",
       "    </tr>\n",
       "    <tr>\n",
       "      <th>4</th>\n",
       "      <td>2306</td>\n",
       "      <td>94110</td>\n",
       "      <td>1198.330</td>\n",
       "      <td>70.4900</td>\n",
       "    </tr>\n",
       "  </tbody>\n",
       "</table>\n",
       "</div>"
      ],
      "text/plain": [
       "     id  postal_code     sales    profit\n",
       "0  8522         2149    16.280    6.5120\n",
       "1  7864        90036  1684.752  210.5940\n",
       "2  3522        10035   242.940    9.7176\n",
       "3  8694        90045    37.170   10.4076\n",
       "4  2306        94110  1198.330   70.4900"
      ]
     },
     "execution_count": 153,
     "metadata": {},
     "output_type": "execute_result"
    }
   ],
   "source": [
    "cont_vars = [var for var in num_vars if var not in discrete_vars]\n",
    "\n",
    "print(f'Number of continous variables: ', len(cont_vars))\n",
    "\n",
    "df[cont_vars].head()"
   ]
  },
  {
   "cell_type": "code",
   "execution_count": 154,
   "id": "f83679a0",
   "metadata": {},
   "outputs": [
    {
     "data": {
      "image/png": "[encoded data removed]",
      "text/plain": [
       "<Figure size 432x288 with 1 Axes>"
      ]
     },
     "metadata": {},
     "output_type": "display_data"
    },
    {
     "data": {
      "image/png": "[encoded data removed]",
      "text/plain": [
       "<Figure size 432x288 with 1 Axes>"
      ]
     },
     "metadata": {},
     "output_type": "display_data"
    },
    {
     "data": {
      "image/png": "[encoded data removed]",
      "text/plain": [
       "<Figure size 432x288 with 1 Axes>"
      ]
     },
     "metadata": {},
     "output_type": "display_data"
    },
    {
     "data": {
      "image/png": "[encoded data removed]",
      "text/plain": [
       "<Figure size 432x288 with 1 Axes>"
      ]
     },
     "metadata": {},
     "output_type": "display_data"
    }
   ],
   "source": [
    "def hist_continuous_var(df, var):\n",
    "    \"\"\"\n",
    "    Plots continuous variable against target, tip amount.\n",
    "    Histogram shows skew or normal dist. \n",
    "    \"\"\"\n",
    "    df = df.copy()\n",
    "    \n",
    "    df[var].hist(bins=40)\n",
    "    plt.title(var)\n",
    "    plt.ylabel('Profit')\n",
    "    plt.xlabel(var)\n",
    "    plt.show()\n",
    "    \n",
    "for var in cont_vars:\n",
    "    hist_continuous_var(df, var)"
   ]
  },
  {
   "cell_type": "code",
   "execution_count": 155,
   "id": "cf66fd53",
   "metadata": {},
   "outputs": [
    {
     "data": {
      "image/png": "[encoded data removed]",
      "text/plain": [
       "<Figure size 432x288 with 1 Axes>"
      ]
     },
     "metadata": {},
     "output_type": "display_data"
    },
    {
     "data": {
      "image/png": "[encoded data removed]",
      "text/plain": [
       "<Figure size 432x288 with 1 Axes>"
      ]
     },
     "metadata": {},
     "output_type": "display_data"
    },
    {
     "data": {
      "image/png": "[encoded data removed]",
      "text/plain": [
       "<Figure size 432x288 with 1 Axes>"
      ]
     },
     "metadata": {},
     "output_type": "display_data"
    }
   ],
   "source": [
    "# log transform the cont variables to be more Gaussian\n",
    "def hist_transformed_continuous_vars(df, var):\n",
    "    \"\"\"\n",
    "    Log transform variables.\n",
    "    Returns a histogram of log variables. \n",
    "    \"\"\"\n",
    "    df = df.copy()\n",
    "    # skip variables with negative values\n",
    "    if 0 in df[var].unique():\n",
    "        pass\n",
    "    else:\n",
    "        df[var] = np.log(df[var])\n",
    "        \n",
    "        df[var].hist(bins=40)\n",
    "        plt.title(var)\n",
    "        plt.ylabel('Number of trips')\n",
    "        plt.xlabel(var)\n",
    "        plt.show()\n",
    "\n",
    "for var in cont_vars:\n",
    "    hist_transformed_continuous_vars(df, var)"
   ]
  },
  {
   "cell_type": "code",
   "execution_count": 156,
   "id": "8a5c23b0",
   "metadata": {},
   "outputs": [
    {
     "name": "stderr",
     "output_type": "stream",
     "text": [
      "/opt/anaconda3/lib/python3.8/site-packages/pandas/core/arraylike.py:358: RuntimeWarning: divide by zero encountered in log\n",
      "  result = getattr(ufunc, method)(*inputs, **kwargs)\n",
      "/opt/anaconda3/lib/python3.8/site-packages/pandas/core/arraylike.py:358: RuntimeWarning: invalid value encountered in log\n",
      "  result = getattr(ufunc, method)(*inputs, **kwargs)\n"
     ]
    },
    {
     "data": {
      "image/png": "[encoded data removed]",
      "text/plain": [
       "<Figure size 432x288 with 1 Axes>"
      ]
     },
     "metadata": {},
     "output_type": "display_data"
    },
    {
     "data": {
      "image/png": "[encoded data removed]",
      "text/plain": [
       "<Figure size 432x288 with 1 Axes>"
      ]
     },
     "metadata": {},
     "output_type": "display_data"
    },
    {
     "data": {
      "image/png": "[encoded data removed]",
      "text/plain": [
       "<Figure size 432x288 with 1 Axes>"
      ]
     },
     "metadata": {},
     "output_type": "display_data"
    }
   ],
   "source": [
    "# explore relationship between target, profit, and the transformed variables\n",
    "\n",
    "def plot_transformed(df, var):\n",
    "    df = df.copy()\n",
    "    \n",
    "    # skip variables with negative values\n",
    "    if 0 in df[var].unique():\n",
    "        pass\n",
    "    else:\n",
    "        df[var] = np.log(df[var])\n",
    "        df['profit'] = np.log(df['profit'])\n",
    "        \n",
    "        plt.scatter(df[var], df['profit'])      \n",
    "        plt.ylabel('profit')\n",
    "        plt.xlabel(var)\n",
    "        plt.show()\n",
    "\n",
    "for var in cont_vars:\n",
    "    if var != 'profit':\n",
    "        plot_transformed(df, var)"
   ]
  },
  {
   "cell_type": "code",
   "execution_count": 157,
   "id": "815b4a67",
   "metadata": {},
   "outputs": [
    {
     "data": {
      "image/png": "[encoded data removed]",
      "text/plain": [
       "<Figure size 432x288 with 1 Axes>"
      ]
     },
     "metadata": {},
     "output_type": "display_data"
    },
    {
     "data": {
      "image/png": "[encoded data removed]",
      "text/plain": [
       "<Figure size 432x288 with 1 Axes>"
      ]
     },
     "metadata": {},
     "output_type": "display_data"
    },
    {
     "data": {
      "image/png": "[encoded data removed]",
      "text/plain": [
       "<Figure size 432x288 with 1 Axes>"
      ]
     },
     "metadata": {},
     "output_type": "display_data"
    }
   ],
   "source": [
    "def plot_outliers(df, var):\n",
    "    df = df.copy()\n",
    "    \n",
    "    # skip variables with negative values\n",
    "    if 0 in df[var].unique():\n",
    "        pass\n",
    "    else:\n",
    "        df[var] = np.log(df[var])\n",
    "        \n",
    "        df.boxplot(column=var)\n",
    "        plt.title(var)\n",
    "        plt.ylabel(var)\n",
    "        plt.show()\n",
    "\n",
    "for var in cont_vars:\n",
    "    plot_outliers(df, var)"
   ]
  },
  {
   "cell_type": "code",
   "execution_count": 158,
   "id": "aa4e05bd",
   "metadata": {},
   "outputs": [
    {
     "name": "stdout",
     "output_type": "stream",
     "text": [
      "Number of categorical variables:  8\n"
     ]
    },
    {
     "data": {
      "text/html": [
       "<div>\n",
       "<style scoped>\n",
       "    .dataframe tbody tr th:only-of-type {\n",
       "        vertical-align: middle;\n",
       "    }\n",
       "\n",
       "    .dataframe tbody tr th {\n",
       "        vertical-align: top;\n",
       "    }\n",
       "\n",
       "    .dataframe thead th {\n",
       "        text-align: right;\n",
       "    }\n",
       "</style>\n",
       "<table border=\"1\" class=\"dataframe\">\n",
       "  <thead>\n",
       "    <tr style=\"text-align: right;\">\n",
       "      <th></th>\n",
       "      <th>ship_mode</th>\n",
       "      <th>segment</th>\n",
       "      <th>country</th>\n",
       "      <th>city</th>\n",
       "      <th>state</th>\n",
       "      <th>region</th>\n",
       "      <th>category</th>\n",
       "      <th>sub_category</th>\n",
       "    </tr>\n",
       "  </thead>\n",
       "  <tbody>\n",
       "    <tr>\n",
       "      <th>0</th>\n",
       "      <td>Second Class</td>\n",
       "      <td>Consumer</td>\n",
       "      <td>United States</td>\n",
       "      <td>Everett</td>\n",
       "      <td>Massachusetts</td>\n",
       "      <td>East</td>\n",
       "      <td>Office Supplies</td>\n",
       "      <td>Art</td>\n",
       "    </tr>\n",
       "    <tr>\n",
       "      <th>1</th>\n",
       "      <td>Standard Class</td>\n",
       "      <td>Corporate</td>\n",
       "      <td>United States</td>\n",
       "      <td>Los Angeles</td>\n",
       "      <td>California</td>\n",
       "      <td>West</td>\n",
       "      <td>Furniture</td>\n",
       "      <td>Chairs</td>\n",
       "    </tr>\n",
       "    <tr>\n",
       "      <th>2</th>\n",
       "      <td>Standard Class</td>\n",
       "      <td>Consumer</td>\n",
       "      <td>United States</td>\n",
       "      <td>New York City</td>\n",
       "      <td>New York</td>\n",
       "      <td>East</td>\n",
       "      <td>Office Supplies</td>\n",
       "      <td>Storage</td>\n",
       "    </tr>\n",
       "    <tr>\n",
       "      <th>3</th>\n",
       "      <td>Standard Class</td>\n",
       "      <td>Consumer</td>\n",
       "      <td>United States</td>\n",
       "      <td>Los Angeles</td>\n",
       "      <td>California</td>\n",
       "      <td>West</td>\n",
       "      <td>Office Supplies</td>\n",
       "      <td>Art</td>\n",
       "    </tr>\n",
       "    <tr>\n",
       "      <th>4</th>\n",
       "      <td>Second Class</td>\n",
       "      <td>Home Office</td>\n",
       "      <td>United States</td>\n",
       "      <td>San Francisco</td>\n",
       "      <td>California</td>\n",
       "      <td>West</td>\n",
       "      <td>Furniture</td>\n",
       "      <td>Bookcases</td>\n",
       "    </tr>\n",
       "  </tbody>\n",
       "</table>\n",
       "</div>"
      ],
      "text/plain": [
       "        ship_mode      segment        country           city          state  \\\n",
       "0    Second Class     Consumer  United States        Everett  Massachusetts   \n",
       "1  Standard Class    Corporate  United States    Los Angeles     California   \n",
       "2  Standard Class     Consumer  United States  New York City       New York   \n",
       "3  Standard Class     Consumer  United States    Los Angeles     California   \n",
       "4    Second Class  Home Office  United States  San Francisco     California   \n",
       "\n",
       "  region         category sub_category  \n",
       "0   East  Office Supplies          Art  \n",
       "1   West        Furniture       Chairs  \n",
       "2   East  Office Supplies      Storage  \n",
       "3   West  Office Supplies          Art  \n",
       "4   West        Furniture    Bookcases  "
      ]
     },
     "execution_count": 158,
     "metadata": {},
     "output_type": "execute_result"
    }
   ],
   "source": [
    "cat_vars = [var for var in df.columns if df[var].dtypes == 'O']\n",
    "print('Number of categorical variables: ', len(cat_vars))\n",
    "\n",
    "df[cat_vars].head()"
   ]
  },
  {
   "cell_type": "markdown",
   "id": "abc7378f",
   "metadata": {},
   "source": [
    "## Feature engineering"
   ]
  },
  {
   "cell_type": "code",
   "execution_count": 159,
   "id": "f1dfd5a4",
   "metadata": {},
   "outputs": [],
   "source": [
    "# Cost per unit\n",
    "# def unit_cost(df):\n",
    "#     df = df.assign(unit_cost = ((df['sales'] - df['profit']) / df['quantity']))\n",
    "#     return df\n",
    "\n",
    "def dropme(_df):\n",
    "    return _df.drop(columns=['country'])\n",
    "\n",
    "def reduce_cardinality(df):\n",
    "    \"\"\"\n",
    "    Need to reduce cardinality of city\n",
    "    \"\"\"\n",
    "    \n",
    "    # get list of top 10 locations from df\n",
    "    top10city = df['city'].value_counts()[:9].index\n",
    "    \n",
    "    # for cities not in the top 10, replace with OTHER\n",
    "    df.loc[~df['city'].isin(top10city), 'city'] = 'OTHER'\n",
    "    \n",
    "    return df\n",
    "\n",
    "def clean(df):\n",
    "    \n",
    "    df = (df.pipe(dropme)\n",
    "          .pipe(reduce_cardinality)\n",
    "\n",
    "         )\n",
    "    \n",
    "    return df"
   ]
  },
  {
   "cell_type": "code",
   "execution_count": 160,
   "id": "6a974d9a",
   "metadata": {},
   "outputs": [
    {
     "data": {
      "text/html": [
       "<div>\n",
       "<style scoped>\n",
       "    .dataframe tbody tr th:only-of-type {\n",
       "        vertical-align: middle;\n",
       "    }\n",
       "\n",
       "    .dataframe tbody tr th {\n",
       "        vertical-align: top;\n",
       "    }\n",
       "\n",
       "    .dataframe thead th {\n",
       "        text-align: right;\n",
       "    }\n",
       "</style>\n",
       "<table border=\"1\" class=\"dataframe\">\n",
       "  <thead>\n",
       "    <tr style=\"text-align: right;\">\n",
       "      <th></th>\n",
       "      <th>id</th>\n",
       "      <th>ship_mode</th>\n",
       "      <th>segment</th>\n",
       "      <th>city</th>\n",
       "      <th>state</th>\n",
       "      <th>postal_code</th>\n",
       "      <th>region</th>\n",
       "      <th>category</th>\n",
       "      <th>sub_category</th>\n",
       "      <th>sales</th>\n",
       "      <th>quantity</th>\n",
       "      <th>discount</th>\n",
       "      <th>profit</th>\n",
       "    </tr>\n",
       "  </thead>\n",
       "  <tbody>\n",
       "    <tr>\n",
       "      <th>0</th>\n",
       "      <td>8522</td>\n",
       "      <td>Second Class</td>\n",
       "      <td>Consumer</td>\n",
       "      <td>OTHER</td>\n",
       "      <td>Massachusetts</td>\n",
       "      <td>2149</td>\n",
       "      <td>East</td>\n",
       "      <td>Office Supplies</td>\n",
       "      <td>Art</td>\n",
       "      <td>16.280</td>\n",
       "      <td>2</td>\n",
       "      <td>0.0</td>\n",
       "      <td>6.512</td>\n",
       "    </tr>\n",
       "    <tr>\n",
       "      <th>1</th>\n",
       "      <td>7864</td>\n",
       "      <td>Standard Class</td>\n",
       "      <td>Corporate</td>\n",
       "      <td>Los Angeles</td>\n",
       "      <td>California</td>\n",
       "      <td>90036</td>\n",
       "      <td>West</td>\n",
       "      <td>Furniture</td>\n",
       "      <td>Chairs</td>\n",
       "      <td>1684.752</td>\n",
       "      <td>6</td>\n",
       "      <td>0.2</td>\n",
       "      <td>210.594</td>\n",
       "    </tr>\n",
       "  </tbody>\n",
       "</table>\n",
       "</div>"
      ],
      "text/plain": [
       "     id       ship_mode    segment         city          state  postal_code  \\\n",
       "0  8522    Second Class   Consumer        OTHER  Massachusetts         2149   \n",
       "1  7864  Standard Class  Corporate  Los Angeles     California        90036   \n",
       "\n",
       "  region         category sub_category     sales  quantity  discount   profit  \n",
       "0   East  Office Supplies          Art    16.280         2       0.0    6.512  \n",
       "1   West        Furniture       Chairs  1684.752         6       0.2  210.594  "
      ]
     },
     "execution_count": 160,
     "metadata": {},
     "output_type": "execute_result"
    }
   ],
   "source": [
    "df = clean(df)\n",
    "test = clean(test)\n",
    "df.head(2)"
   ]
  },
  {
   "cell_type": "code",
   "execution_count": 163,
   "id": "bbf2553f",
   "metadata": {},
   "outputs": [
    {
     "data": {
      "text/html": [
       "<div>\n",
       "<style scoped>\n",
       "    .dataframe tbody tr th:only-of-type {\n",
       "        vertical-align: middle;\n",
       "    }\n",
       "\n",
       "    .dataframe tbody tr th {\n",
       "        vertical-align: top;\n",
       "    }\n",
       "\n",
       "    .dataframe thead th {\n",
       "        text-align: right;\n",
       "    }\n",
       "</style>\n",
       "<table border=\"1\" class=\"dataframe\">\n",
       "  <thead>\n",
       "    <tr style=\"text-align: right;\">\n",
       "      <th></th>\n",
       "      <th>count</th>\n",
       "      <th>unique</th>\n",
       "      <th>top</th>\n",
       "      <th>freq</th>\n",
       "    </tr>\n",
       "  </thead>\n",
       "  <tbody>\n",
       "    <tr>\n",
       "      <th>segment</th>\n",
       "      <td>7173</td>\n",
       "      <td>3</td>\n",
       "      <td>Consumer</td>\n",
       "      <td>3753</td>\n",
       "    </tr>\n",
       "    <tr>\n",
       "      <th>category</th>\n",
       "      <td>7173</td>\n",
       "      <td>3</td>\n",
       "      <td>Office Supplies</td>\n",
       "      <td>4353</td>\n",
       "    </tr>\n",
       "    <tr>\n",
       "      <th>ship_mode</th>\n",
       "      <td>7173</td>\n",
       "      <td>4</td>\n",
       "      <td>Standard Class</td>\n",
       "      <td>4285</td>\n",
       "    </tr>\n",
       "    <tr>\n",
       "      <th>region</th>\n",
       "      <td>7173</td>\n",
       "      <td>4</td>\n",
       "      <td>West</td>\n",
       "      <td>2425</td>\n",
       "    </tr>\n",
       "    <tr>\n",
       "      <th>city</th>\n",
       "      <td>7173</td>\n",
       "      <td>10</td>\n",
       "      <td>OTHER</td>\n",
       "      <td>3754</td>\n",
       "    </tr>\n",
       "    <tr>\n",
       "      <th>sub_category</th>\n",
       "      <td>7173</td>\n",
       "      <td>17</td>\n",
       "      <td>Binders</td>\n",
       "      <td>1058</td>\n",
       "    </tr>\n",
       "    <tr>\n",
       "      <th>state</th>\n",
       "      <td>7173</td>\n",
       "      <td>38</td>\n",
       "      <td>California</td>\n",
       "      <td>2001</td>\n",
       "    </tr>\n",
       "  </tbody>\n",
       "</table>\n",
       "</div>"
      ],
      "text/plain": [
       "             count unique              top  freq\n",
       "segment       7173      3         Consumer  3753\n",
       "category      7173      3  Office Supplies  4353\n",
       "ship_mode     7173      4   Standard Class  4285\n",
       "region        7173      4             West  2425\n",
       "city          7173     10            OTHER  3754\n",
       "sub_category  7173     17          Binders  1058\n",
       "state         7173     38       California  2001"
      ]
     },
     "execution_count": 163,
     "metadata": {},
     "output_type": "execute_result"
    }
   ],
   "source": [
    "# check cardinality of non-numeric features we want to one-hot encode\n",
    "df.describe(include='O').T.sort_values(by='unique')"
   ]
  },
  {
   "cell_type": "code",
   "execution_count": 174,
   "id": "cf3eafe5",
   "metadata": {},
   "outputs": [
    {
     "data": {
      "text/plain": [
       "['ship_mode', 'segment', 'city', 'state', 'region', 'category', 'sub_category']"
      ]
     },
     "execution_count": 174,
     "metadata": {},
     "output_type": "execute_result"
    }
   ],
   "source": [
    "cat_vars = [var for var in df.columns if df[var].dtype == 'O']\n",
    "cat_vars"
   ]
  },
  {
   "cell_type": "code",
   "execution_count": 175,
   "id": "a2285d73",
   "metadata": {},
   "outputs": [
    {
     "data": {
      "image/png": "[encoded data removed]",
      "text/plain": [
       "<Figure size 432x288 with 1 Axes>"
      ]
     },
     "metadata": {},
     "output_type": "display_data"
    },
    {
     "data": {
      "image/png": "[encoded data removed]",
      "text/plain": [
       "<Figure size 432x288 with 1 Axes>"
      ]
     },
     "metadata": {},
     "output_type": "display_data"
    },
    {
     "data": {
      "image/png": "[encoded data removed]",
      "text/plain": [
       "<Figure size 432x288 with 1 Axes>"
      ]
     },
     "metadata": {},
     "output_type": "display_data"
    },
    {
     "data": {
      "image/png": "[encoded data removed]",
      "text/plain": [
       "<Figure size 432x288 with 1 Axes>"
      ]
     },
     "metadata": {},
     "output_type": "display_data"
    },
    {
     "data": {
      "image/png": "[encoded data removed]",
      "text/plain": [
       "<Figure size 432x288 with 1 Axes>"
      ]
     },
     "metadata": {},
     "output_type": "display_data"
    },
    {
     "data": {
      "image/png": "[encoded data removed]",
      "text/plain": [
       "<Figure size 432x288 with 1 Axes>"
      ]
     },
     "metadata": {},
     "output_type": "display_data"
    },
    {
     "data": {
      "image/png": "[encoded data removed]",
      "text/plain": [
       "<Figure size 432x288 with 1 Axes>"
      ]
     },
     "metadata": {},
     "output_type": "display_data"
    }
   ],
   "source": [
    "# is there a monotonic relationship between the labels and profit?\n",
    "def analyse_vars(df, var):\n",
    "    df = df.copy()\n",
    "    df.groupby(var)['profit'].median().plot.bar()\n",
    "    plt.title(var)\n",
    "    plt.ylabel('profit')\n",
    "    plt.show()\n",
    "    \n",
    "for var in cat_vars:\n",
    "    analyse_vars(df, var)"
   ]
  },
  {
   "cell_type": "code",
   "execution_count": 176,
   "id": "ffda002b",
   "metadata": {},
   "outputs": [],
   "source": [
    "y_train = df['profit']\n",
    "X_train = df.drop(columns='profit')"
   ]
  },
  {
   "cell_type": "code",
   "execution_count": 165,
   "id": "ce735867",
   "metadata": {},
   "outputs": [],
   "source": [
    "### Build Model"
   ]
  },
  {
   "cell_type": "code",
   "execution_count": 177,
   "id": "33959baf",
   "metadata": {},
   "outputs": [],
   "source": [
    "# Pipeline\n",
    "xg_pipe = make_pipeline(\n",
    "            ce.OrdinalEncoder(),\n",
    "            ce.OneHotEncoder(use_cat_names=True),\n",
    "            SimpleImputer(), \n",
    "            XGBRegressor()\n",
    ")\n",
    "\n",
    "# params\n",
    "params = {\n",
    "    \"xgbregressor__eval_metric\":['rmse'],\n",
    "    \"xgbregressor__max_depth\": [6, 9, 13],\n",
    "    \"xgbregressor__min_child_weight\": [1, 2, 4],\n",
    "    \"xgbregressor__eta\": [0.3, 0.4, .09],\n",
    "    \"xgbregressor__strategy\": ['mean', 'median']\n",
    "}\n",
    "\n",
    "# this implements a “fit” and a “score” method\n",
    "# not all parameter values are tried out, but a fixed number of parameter settings\n",
    "# is sampled from the specified distributions. \n",
    "# The number of parameter settings that are tried is given by n_iter.\n",
    "# https://scikit-learn.org/stable/modules/generated/sklearn.model_selection.RandomizedSearchCV.html\n",
    "xg_search=RandomizedSearchCV(\n",
    "                xg_pipe,\n",
    "                params,\n",
    "                n_iter=10,\n",
    "                scoring='neg_root_mean_squared_error',\n",
    "                n_jobs=-1,\n",
    "                cv=5,\n",
    "                random_state=SEED, verbose=5\n",
    ")\n"
   ]
  },
  {
   "cell_type": "code",
   "execution_count": 194,
   "id": "d3bac21d",
   "metadata": {},
   "outputs": [
    {
     "name": "stdout",
     "output_type": "stream",
     "text": [
      "Fitting 5 folds for each of 10 candidates, totalling 50 fits\n"
     ]
    },
    {
     "name": "stderr",
     "output_type": "stream",
     "text": [
      "/opt/anaconda3/lib/python3.8/site-packages/category_encoders/utils.py:21: FutureWarning: is_categorical is deprecated and will be removed in a future version.  Use is_categorical_dtype instead\n",
      "  elif pd.api.types.is_categorical(cols):\n"
     ]
    },
    {
     "name": "stdout",
     "output_type": "stream",
     "text": [
      "[22:59:54] WARNING: /Users/travis/build/dmlc/xgboost/src/learner.cc:573: \n",
      "Parameters: { \"strategy\" } might not be used.\n",
      "\n",
      "  This may not be accurate due to some parameters are only used in language bindings but\n",
      "  passed down to XGBoost core.  Or some parameters are not used but slip through this\n",
      "  verification. Please open an issue if you find above cases.\n",
      "\n",
      "\n"
     ]
    }
   ],
   "source": [
    "# estimator: .fit(data, target)\n",
    "model = xg_search.fit(X_train,\n",
    "              y_train)"
   ]
  },
  {
   "cell_type": "code",
   "execution_count": 195,
   "id": "b0480d24",
   "metadata": {},
   "outputs": [
    {
     "name": "stdout",
     "output_type": "stream",
     "text": [
      "Best hyperparameters {'xgbregressor__strategy': 'median', 'xgbregressor__min_child_weight': 4, 'xgbregressor__max_depth': 6, 'xgbregressor__eval_metric': 'rmse', 'xgbregressor__eta': 0.09}\n",
      "Cross-validation best estimator -86.39902556738838\n"
     ]
    }
   ],
   "source": [
    "# best_params_:\n",
    "# Parameter setting that gave the best results on the hold out data.\n",
    "\n",
    "# best_score_: \n",
    "# Estimator that was chosen by the search, i.e. estimator which gave highest score (or smallest loss if specified) on the left out data.\n",
    "\n",
    "\n",
    "print('Best hyperparameters', xg_search.best_params_)\n",
    "print('Cross-validation best estimator', xg_search.best_score_)"
   ]
  },
  {
   "cell_type": "code",
   "execution_count": 196,
   "id": "a47731d3",
   "metadata": {},
   "outputs": [
    {
     "ename": "ValueError",
     "evalue": "could not convert string to float: 'Second Class'",
     "output_type": "error",
     "traceback": [
      "\u001b[0;31m---------------------------------------------------------------------------\u001b[0m",
      "\u001b[0;31mValueError\u001b[0m                                Traceback (most recent call last)",
      "\u001b[0;32m<ipython-input-196-3b25d47547b5>\u001b[0m in \u001b[0;36m<module>\u001b[0;34m\u001b[0m\n\u001b[1;32m      8\u001b[0m )\n\u001b[1;32m      9\u001b[0m \u001b[0;34m\u001b[0m\u001b[0m\n\u001b[0;32m---> 10\u001b[0;31m \u001b[0mpermuter\u001b[0m\u001b[0;34m.\u001b[0m\u001b[0mfit\u001b[0m\u001b[0;34m(\u001b[0m\u001b[0mX_train\u001b[0m\u001b[0;34m,\u001b[0m \u001b[0my_train\u001b[0m\u001b[0;34m)\u001b[0m\u001b[0;34m\u001b[0m\u001b[0;34m\u001b[0m\u001b[0m\n\u001b[0m\u001b[1;32m     11\u001b[0m \u001b[0;34m\u001b[0m\u001b[0m\n\u001b[1;32m     12\u001b[0m \u001b[0mfeature_names\u001b[0m \u001b[0;34m=\u001b[0m \u001b[0mX_train\u001b[0m\u001b[0;34m.\u001b[0m\u001b[0mcolumns\u001b[0m\u001b[0;34m.\u001b[0m\u001b[0mtolist\u001b[0m\u001b[0;34m(\u001b[0m\u001b[0;34m)\u001b[0m\u001b[0;34m\u001b[0m\u001b[0;34m\u001b[0m\u001b[0m\n",
      "\u001b[0;32m/opt/anaconda3/lib/python3.8/site-packages/eli5/sklearn/permutation_importance.py\u001b[0m in \u001b[0;36mfit\u001b[0;34m(self, X, y, groups, **fit_params)\u001b[0m\n\u001b[1;32m    197\u001b[0m             \u001b[0mself\u001b[0m\u001b[0;34m.\u001b[0m\u001b[0mestimator_\u001b[0m\u001b[0;34m.\u001b[0m\u001b[0mfit\u001b[0m\u001b[0;34m(\u001b[0m\u001b[0mX\u001b[0m\u001b[0;34m,\u001b[0m \u001b[0my\u001b[0m\u001b[0;34m,\u001b[0m \u001b[0;34m**\u001b[0m\u001b[0mfit_params\u001b[0m\u001b[0;34m)\u001b[0m\u001b[0;34m\u001b[0m\u001b[0;34m\u001b[0m\u001b[0m\n\u001b[1;32m    198\u001b[0m \u001b[0;34m\u001b[0m\u001b[0m\n\u001b[0;32m--> 199\u001b[0;31m         \u001b[0mX\u001b[0m \u001b[0;34m=\u001b[0m \u001b[0mcheck_array\u001b[0m\u001b[0;34m(\u001b[0m\u001b[0mX\u001b[0m\u001b[0;34m,\u001b[0m \u001b[0mforce_all_finite\u001b[0m\u001b[0;34m=\u001b[0m\u001b[0;34m'allow-nan'\u001b[0m\u001b[0;34m)\u001b[0m\u001b[0;34m\u001b[0m\u001b[0;34m\u001b[0m\u001b[0m\n\u001b[0m\u001b[1;32m    200\u001b[0m \u001b[0;34m\u001b[0m\u001b[0m\n\u001b[1;32m    201\u001b[0m         \u001b[0;32mif\u001b[0m \u001b[0mself\u001b[0m\u001b[0;34m.\u001b[0m\u001b[0mcv\u001b[0m \u001b[0;32mnot\u001b[0m \u001b[0;32min\u001b[0m \u001b[0;34m(\u001b[0m\u001b[0;32mNone\u001b[0m\u001b[0;34m,\u001b[0m \u001b[0;34m\"prefit\"\u001b[0m\u001b[0;34m)\u001b[0m\u001b[0;34m:\u001b[0m\u001b[0;34m\u001b[0m\u001b[0;34m\u001b[0m\u001b[0m\n",
      "\u001b[0;32m/opt/anaconda3/lib/python3.8/site-packages/sklearn/utils/validation.py\u001b[0m in \u001b[0;36minner_f\u001b[0;34m(*args, **kwargs)\u001b[0m\n\u001b[1;32m     61\u001b[0m             \u001b[0mextra_args\u001b[0m \u001b[0;34m=\u001b[0m \u001b[0mlen\u001b[0m\u001b[0;34m(\u001b[0m\u001b[0margs\u001b[0m\u001b[0;34m)\u001b[0m \u001b[0;34m-\u001b[0m \u001b[0mlen\u001b[0m\u001b[0;34m(\u001b[0m\u001b[0mall_args\u001b[0m\u001b[0;34m)\u001b[0m\u001b[0;34m\u001b[0m\u001b[0;34m\u001b[0m\u001b[0m\n\u001b[1;32m     62\u001b[0m             \u001b[0;32mif\u001b[0m \u001b[0mextra_args\u001b[0m \u001b[0;34m<=\u001b[0m \u001b[0;36m0\u001b[0m\u001b[0;34m:\u001b[0m\u001b[0;34m\u001b[0m\u001b[0;34m\u001b[0m\u001b[0m\n\u001b[0;32m---> 63\u001b[0;31m                 \u001b[0;32mreturn\u001b[0m \u001b[0mf\u001b[0m\u001b[0;34m(\u001b[0m\u001b[0;34m*\u001b[0m\u001b[0margs\u001b[0m\u001b[0;34m,\u001b[0m \u001b[0;34m**\u001b[0m\u001b[0mkwargs\u001b[0m\u001b[0;34m)\u001b[0m\u001b[0;34m\u001b[0m\u001b[0;34m\u001b[0m\u001b[0m\n\u001b[0m\u001b[1;32m     64\u001b[0m \u001b[0;34m\u001b[0m\u001b[0m\n\u001b[1;32m     65\u001b[0m             \u001b[0;31m# extra_args > 0\u001b[0m\u001b[0;34m\u001b[0m\u001b[0;34m\u001b[0m\u001b[0;34m\u001b[0m\u001b[0m\n",
      "\u001b[0;32m/opt/anaconda3/lib/python3.8/site-packages/sklearn/utils/validation.py\u001b[0m in \u001b[0;36mcheck_array\u001b[0;34m(array, accept_sparse, accept_large_sparse, dtype, order, copy, force_all_finite, ensure_2d, allow_nd, ensure_min_samples, ensure_min_features, estimator)\u001b[0m\n\u001b[1;32m    614\u001b[0m                     \u001b[0marray\u001b[0m \u001b[0;34m=\u001b[0m \u001b[0marray\u001b[0m\u001b[0;34m.\u001b[0m\u001b[0mastype\u001b[0m\u001b[0;34m(\u001b[0m\u001b[0mdtype\u001b[0m\u001b[0;34m,\u001b[0m \u001b[0mcasting\u001b[0m\u001b[0;34m=\u001b[0m\u001b[0;34m\"unsafe\"\u001b[0m\u001b[0;34m,\u001b[0m \u001b[0mcopy\u001b[0m\u001b[0;34m=\u001b[0m\u001b[0;32mFalse\u001b[0m\u001b[0;34m)\u001b[0m\u001b[0;34m\u001b[0m\u001b[0;34m\u001b[0m\u001b[0m\n\u001b[1;32m    615\u001b[0m                 \u001b[0;32melse\u001b[0m\u001b[0;34m:\u001b[0m\u001b[0;34m\u001b[0m\u001b[0;34m\u001b[0m\u001b[0m\n\u001b[0;32m--> 616\u001b[0;31m                     \u001b[0marray\u001b[0m \u001b[0;34m=\u001b[0m \u001b[0mnp\u001b[0m\u001b[0;34m.\u001b[0m\u001b[0masarray\u001b[0m\u001b[0;34m(\u001b[0m\u001b[0marray\u001b[0m\u001b[0;34m,\u001b[0m \u001b[0morder\u001b[0m\u001b[0;34m=\u001b[0m\u001b[0morder\u001b[0m\u001b[0;34m,\u001b[0m \u001b[0mdtype\u001b[0m\u001b[0;34m=\u001b[0m\u001b[0mdtype\u001b[0m\u001b[0;34m)\u001b[0m\u001b[0;34m\u001b[0m\u001b[0;34m\u001b[0m\u001b[0m\n\u001b[0m\u001b[1;32m    617\u001b[0m             \u001b[0;32mexcept\u001b[0m \u001b[0mComplexWarning\u001b[0m \u001b[0;32mas\u001b[0m \u001b[0mcomplex_warning\u001b[0m\u001b[0;34m:\u001b[0m\u001b[0;34m\u001b[0m\u001b[0;34m\u001b[0m\u001b[0m\n\u001b[1;32m    618\u001b[0m                 raise ValueError(\"Complex data not supported\\n\"\n",
      "\u001b[0;32m/opt/anaconda3/lib/python3.8/site-packages/numpy/core/_asarray.py\u001b[0m in \u001b[0;36masarray\u001b[0;34m(a, dtype, order, like)\u001b[0m\n\u001b[1;32m    100\u001b[0m         \u001b[0;32mreturn\u001b[0m \u001b[0m_asarray_with_like\u001b[0m\u001b[0;34m(\u001b[0m\u001b[0ma\u001b[0m\u001b[0;34m,\u001b[0m \u001b[0mdtype\u001b[0m\u001b[0;34m=\u001b[0m\u001b[0mdtype\u001b[0m\u001b[0;34m,\u001b[0m \u001b[0morder\u001b[0m\u001b[0;34m=\u001b[0m\u001b[0morder\u001b[0m\u001b[0;34m,\u001b[0m \u001b[0mlike\u001b[0m\u001b[0;34m=\u001b[0m\u001b[0mlike\u001b[0m\u001b[0;34m)\u001b[0m\u001b[0;34m\u001b[0m\u001b[0;34m\u001b[0m\u001b[0m\n\u001b[1;32m    101\u001b[0m \u001b[0;34m\u001b[0m\u001b[0m\n\u001b[0;32m--> 102\u001b[0;31m     \u001b[0;32mreturn\u001b[0m \u001b[0marray\u001b[0m\u001b[0;34m(\u001b[0m\u001b[0ma\u001b[0m\u001b[0;34m,\u001b[0m \u001b[0mdtype\u001b[0m\u001b[0;34m,\u001b[0m \u001b[0mcopy\u001b[0m\u001b[0;34m=\u001b[0m\u001b[0;32mFalse\u001b[0m\u001b[0;34m,\u001b[0m \u001b[0morder\u001b[0m\u001b[0;34m=\u001b[0m\u001b[0morder\u001b[0m\u001b[0;34m)\u001b[0m\u001b[0;34m\u001b[0m\u001b[0;34m\u001b[0m\u001b[0m\n\u001b[0m\u001b[1;32m    103\u001b[0m \u001b[0;34m\u001b[0m\u001b[0m\n\u001b[1;32m    104\u001b[0m \u001b[0;34m\u001b[0m\u001b[0m\n",
      "\u001b[0;32m/opt/anaconda3/lib/python3.8/site-packages/pandas/core/generic.py\u001b[0m in \u001b[0;36m__array__\u001b[0;34m(self, dtype)\u001b[0m\n\u001b[1;32m   1897\u001b[0m \u001b[0;34m\u001b[0m\u001b[0m\n\u001b[1;32m   1898\u001b[0m     \u001b[0;32mdef\u001b[0m \u001b[0m__array__\u001b[0m\u001b[0;34m(\u001b[0m\u001b[0mself\u001b[0m\u001b[0;34m,\u001b[0m \u001b[0mdtype\u001b[0m\u001b[0;34m=\u001b[0m\u001b[0;32mNone\u001b[0m\u001b[0;34m)\u001b[0m \u001b[0;34m->\u001b[0m \u001b[0mnp\u001b[0m\u001b[0;34m.\u001b[0m\u001b[0mndarray\u001b[0m\u001b[0;34m:\u001b[0m\u001b[0;34m\u001b[0m\u001b[0;34m\u001b[0m\u001b[0m\n\u001b[0;32m-> 1899\u001b[0;31m         \u001b[0;32mreturn\u001b[0m \u001b[0mnp\u001b[0m\u001b[0;34m.\u001b[0m\u001b[0masarray\u001b[0m\u001b[0;34m(\u001b[0m\u001b[0mself\u001b[0m\u001b[0;34m.\u001b[0m\u001b[0m_values\u001b[0m\u001b[0;34m,\u001b[0m \u001b[0mdtype\u001b[0m\u001b[0;34m=\u001b[0m\u001b[0mdtype\u001b[0m\u001b[0;34m)\u001b[0m\u001b[0;34m\u001b[0m\u001b[0;34m\u001b[0m\u001b[0m\n\u001b[0m\u001b[1;32m   1900\u001b[0m \u001b[0;34m\u001b[0m\u001b[0m\n\u001b[1;32m   1901\u001b[0m     def __array_wrap__(\n",
      "\u001b[0;32m/opt/anaconda3/lib/python3.8/site-packages/numpy/core/_asarray.py\u001b[0m in \u001b[0;36masarray\u001b[0;34m(a, dtype, order, like)\u001b[0m\n\u001b[1;32m    100\u001b[0m         \u001b[0;32mreturn\u001b[0m \u001b[0m_asarray_with_like\u001b[0m\u001b[0;34m(\u001b[0m\u001b[0ma\u001b[0m\u001b[0;34m,\u001b[0m \u001b[0mdtype\u001b[0m\u001b[0;34m=\u001b[0m\u001b[0mdtype\u001b[0m\u001b[0;34m,\u001b[0m \u001b[0morder\u001b[0m\u001b[0;34m=\u001b[0m\u001b[0morder\u001b[0m\u001b[0;34m,\u001b[0m \u001b[0mlike\u001b[0m\u001b[0;34m=\u001b[0m\u001b[0mlike\u001b[0m\u001b[0;34m)\u001b[0m\u001b[0;34m\u001b[0m\u001b[0;34m\u001b[0m\u001b[0m\n\u001b[1;32m    101\u001b[0m \u001b[0;34m\u001b[0m\u001b[0m\n\u001b[0;32m--> 102\u001b[0;31m     \u001b[0;32mreturn\u001b[0m \u001b[0marray\u001b[0m\u001b[0;34m(\u001b[0m\u001b[0ma\u001b[0m\u001b[0;34m,\u001b[0m \u001b[0mdtype\u001b[0m\u001b[0;34m,\u001b[0m \u001b[0mcopy\u001b[0m\u001b[0;34m=\u001b[0m\u001b[0;32mFalse\u001b[0m\u001b[0;34m,\u001b[0m \u001b[0morder\u001b[0m\u001b[0;34m=\u001b[0m\u001b[0morder\u001b[0m\u001b[0;34m)\u001b[0m\u001b[0;34m\u001b[0m\u001b[0;34m\u001b[0m\u001b[0m\n\u001b[0m\u001b[1;32m    103\u001b[0m \u001b[0;34m\u001b[0m\u001b[0m\n\u001b[1;32m    104\u001b[0m \u001b[0;34m\u001b[0m\u001b[0m\n",
      "\u001b[0;31mValueError\u001b[0m: could not convert string to float: 'Second Class'"
     ]
    }
   ],
   "source": [
    "# this runs predict() on each feature\n",
    "\n",
    "import eli5\n",
    "from eli5.sklearn import PermutationImportance\n",
    "\n",
    "permuter = PermutationImportance(\n",
    "    model, scoring='neg_root_mean_squared_error', n_iter=2, random_state=42\n",
    ")\n",
    "\n",
    "permuter.fit(X_train, y_train)\n",
    "\n",
    "feature_names = X_train.columns.tolist()\n",
    "\n",
    "eli5.show_weights(\n",
    "    permuter, \n",
    "    top=None,  # show the permutation importances for all features\n",
    "    feature_names=feature_names\n",
    ")"
   ]
  },
  {
   "cell_type": "code",
   "execution_count": 180,
   "id": "e1a243ba",
   "metadata": {},
   "outputs": [
    {
     "data": {
      "text/plain": [
       "array([  5.9167795, -13.257483 ,  -8.781613 , ...,   5.938255 ,\n",
       "       -29.267    , -73.56254  ], dtype=float32)"
      ]
     },
     "execution_count": 180,
     "metadata": {},
     "output_type": "execute_result"
    }
   ],
   "source": [
    "# predict\n",
    "# use predict_proba for Classification algorithms \n",
    "# they usually also offer a way to quantify certainty of a prediction, either using decision_function or predict_proba:\n",
    "y_pred = xg_search.predict(test)\n",
    "\n",
    "y_pred"
   ]
  },
  {
   "cell_type": "code",
   "execution_count": 181,
   "id": "ed1878a8",
   "metadata": {},
   "outputs": [],
   "source": [
    "def make_submission(score):\n",
    "    \"\"\"Takes prediction array and returns a Kaggle submission df\"\"\"\n",
    "    \n",
    "    # get the predicted probabilities for the positive label only\n",
    "    pos_score = score[:]\n",
    "    \n",
    "    # put into a df with a column label of target\n",
    "    pos_score = pd.DataFrame(pos_score, columns=['profit'])\n",
    "    \n",
    "    # add original ids from test df \n",
    "    submission_df = pd.concat([test.id, pos_score], axis=1)\n",
    "    \n",
    "    return submission_df"
   ]
  },
  {
   "cell_type": "code",
   "execution_count": 182,
   "id": "bc1332eb",
   "metadata": {},
   "outputs": [],
   "source": [
    "make_submission(y_pred).to_csv('predictions/attempt2.csv', index=None)"
   ]
  }
 ],
 "metadata": {
  "kernelspec": {
   "display_name": "Python 3",
   "language": "python",
   "name": "python3"
  },
  "language_info": {
   "codemirror_mode": {
    "name": "ipython",
    "version": 3
   },
   "file_extension": ".py",
   "mimetype": "text/x-python",
   "name": "python",
   "nbconvert_exporter": "python",
   "pygments_lexer": "ipython3",
   "version": "3.8.8"
  }
 },
 "nbformat": 4,
 "nbformat_minor": 5
}
